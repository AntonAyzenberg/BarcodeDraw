{
 "cells": [
  {
   "cell_type": "code",
   "execution_count": 2,
   "id": "fa6a654d",
   "metadata": {},
   "outputs": [],
   "source": [
    "import numpy as np\n",
    "import matplotlib.pyplot as plt"
   ]
  },
  {
   "cell_type": "code",
   "execution_count": 158,
   "id": "8029a8f7",
   "metadata": {},
   "outputs": [],
   "source": [
    "def ShowBarcode(PersHom, degrees=range(len(PersHom)), colorScheme=['b','g','r','c','m','k','y']) :\n",
    "    \n",
    "    number=0\n",
    "    for i in degrees:\n",
    "        number+=len(PersHom[i])\n",
    "    \n",
    "    fig = plt.figure()\n",
    "    height=1\n",
    "    if number<40 : \n",
    "        height=number/40\n",
    "    ax = fig.add_axes([0,0,0.6,height])\n",
    "    \n",
    "    low=0\n",
    "    for i in degrees:\n",
    "        upp=low+len(PersHom[i])\n",
    "        X=np.arange(low, upp)\n",
    "        low=upp\n",
    "        births=[]\n",
    "        lives=[]\n",
    "        for h in PersHom[i]:\n",
    "            births.append(h[0])\n",
    "            lives.append(h[1]-h[0])\n",
    "        ax.barh(X, lives, color = colorScheme[i], height = 0.75, left = births, label=\"Homology of deg \"+str(i))\n",
    "    ax.barh(0, 0, height = 1)\n",
    "    ax.barh(number-1, 0, height = 1)\n",
    "    legend = height+0.06*len(degrees)\n",
    "    if legend>1:\n",
    "        fig.legend(loc='upper left')\n",
    "    else :\n",
    "        fig.legend(loc='upper left', bbox_to_anchor=(0, 0, 0.6, legend))"
   ]
  },
  {
   "cell_type": "code",
   "execution_count": 159,
   "id": "62984a65",
   "metadata": {},
   "outputs": [
    {
     "data": {
      "image/png": "[encoded data removed]",
      "text/plain": [
       "<Figure size 432x288 with 1 Axes>"
      ]
     },
     "metadata": {
      "needs_background": "light"
     },
     "output_type": "display_data"
    }
   ],
   "source": [
    "#Barcode plotter takes as input a list of persistent homology.\n",
    "#i-th element is the list of all degree i homologies, births and deaths.\n",
    "#You can manually adjust the list of degrees you want to show and the list of bar colors\n",
    "#using optional arguments degrees and colorScheme\n",
    "\n",
    "#Example:\n",
    "\n",
    "PersHom=[[[0,1],[0,1.5],[0,3],[1,3],[2,3.5]], #0-th homology \n",
    "         [[1,3],[2.5,4],[2,5]],       #1-st homology\n",
    "         [[3,6]]]               #2-nd homology\n",
    "    \n",
    "ShowBarcode(PersHom, degrees=[0,1,2])"
   ]
  },
  {
   "cell_type": "code",
   "execution_count": null,
   "id": "368e3003",
   "metadata": {},
   "outputs": [],
   "source": []
  },
  {
   "cell_type": "code",
   "execution_count": null,
   "id": "30b7a685",
   "metadata": {},
   "outputs": [],
   "source": []
  }
 ],
 "metadata": {
  "kernelspec": {
   "display_name": "Python 3",
   "language": "python",
   "name": "python3"
  },
  "language_info": {
   "codemirror_mode": {
    "name": "ipython",
    "version": 3
   },
   "file_extension": ".py",
   "mimetype": "text/x-python",
   "name": "python",
   "nbconvert_exporter": "python",
   "pygments_lexer": "ipython3",
   "version": "3.8.8"
  }
 },
 "nbformat": 4,
 "nbformat_minor": 5
}
